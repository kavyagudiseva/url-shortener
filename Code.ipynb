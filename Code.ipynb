{
 "cells": [
  {
   "cell_type": "code",
   "execution_count": 1,
   "id": "cdc70444",
   "metadata": {},
   "outputs": [
    {
     "name": "stdout",
     "output_type": "stream",
     "text": [
      "Enter the URL : https://google.com\n",
      "Short URL :  https://tinyurl.com/mbq3m\n"
     ]
    }
   ],
   "source": [
    "#URL shortener\n",
    "#install pip package\n",
    "import pyshorteners as sh\n",
    "\n",
    "#Take original URL as input\n",
    "long_url=input(\"Enter the URL : \")\n",
    "\n",
    "def shorter(long_url):\n",
    "    x=sh.Shortener()\n",
    "    short_url= x.tinyurl.short(long_url)\n",
    "    print(\"Short URL : \",short_url)\n",
    "    \n",
    "#calling the fuction\n",
    "shorter(long_url)"
   ]
  },
  {
   "cell_type": "code",
   "execution_count": 1,
   "id": "2af6b54b",
   "metadata": {},
   "outputs": [
    {
     "name": "stdout",
     "output_type": "stream",
     "text": [
      "Collecting pyshorteners\n",
      "  Using cached pyshorteners-1.0.1.tar.gz (10.0 kB)\n",
      "  Preparing metadata (setup.py) ... \u001b[?25ldone\n",
      "\u001b[?25hRequirement already satisfied: requests in /Users/kavyagudiseva/anaconda3/lib/python3.10/site-packages (from pyshorteners) (2.28.1)\n",
      "Requirement already satisfied: urllib3<1.27,>=1.21.1 in /Users/kavyagudiseva/anaconda3/lib/python3.10/site-packages (from requests->pyshorteners) (1.26.14)\n",
      "Requirement already satisfied: charset-normalizer<3,>=2 in /Users/kavyagudiseva/anaconda3/lib/python3.10/site-packages (from requests->pyshorteners) (2.0.4)\n",
      "Requirement already satisfied: idna<4,>=2.5 in /Users/kavyagudiseva/anaconda3/lib/python3.10/site-packages (from requests->pyshorteners) (3.4)\n",
      "Requirement already satisfied: certifi>=2017.4.17 in /Users/kavyagudiseva/anaconda3/lib/python3.10/site-packages (from requests->pyshorteners) (2023.5.7)\n",
      "Building wheels for collected packages: pyshorteners\n",
      "  Building wheel for pyshorteners (setup.py) ... \u001b[?25ldone\n",
      "\u001b[?25h  Created wheel for pyshorteners: filename=pyshorteners-1.0.1-py3-none-any.whl size=17480 sha256=91155d0b5e797670fed75633ce7b731d211fcd2bb1d7c6fbaf4341225d9bd5fb\n",
      "  Stored in directory: /Users/kavyagudiseva/Library/Caches/pip/wheels/30/82/b2/341d77dbb23611d1e12a8711525ecb29067b9e5fef9ada33df\n",
      "Successfully built pyshorteners\n",
      "Installing collected packages: pyshorteners\n",
      "Successfully installed pyshorteners-1.0.1\n",
      "Note: you may need to restart the kernel to use updated packages.\n"
     ]
    }
   ],
   "source": [
    "pip install pyshorteners\n"
   ]
  },
  {
   "cell_type": "code",
   "execution_count": null,
   "id": "c48be122",
   "metadata": {},
   "outputs": [],
   "source": []
  }
 ],
 "metadata": {
  "kernelspec": {
   "display_name": "Python 3 (ipykernel)",
   "language": "python",
   "name": "python3"
  },
  "language_info": {
   "codemirror_mode": {
    "name": "ipython",
    "version": 3
   },
   "file_extension": ".py",
   "mimetype": "text/x-python",
   "name": "python",
   "nbconvert_exporter": "python",
   "pygments_lexer": "ipython3",
   "version": "3.10.9"
  }
 },
 "nbformat": 4,
 "nbformat_minor": 5
}
